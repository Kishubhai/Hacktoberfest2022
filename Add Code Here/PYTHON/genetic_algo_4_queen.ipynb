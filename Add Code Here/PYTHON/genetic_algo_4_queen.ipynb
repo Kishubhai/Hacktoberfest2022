{
 "cells": [
  {
   "cell_type": "code",
   "execution_count": 1,
   "metadata": {},
   "outputs": [],
   "source": [
    "import random as rnd"
   ]
  },
  {
   "cell_type": "code",
   "execution_count": 2,
   "metadata": {},
   "outputs": [],
   "source": [
    "p_s=200\n",
    "n=4\n",
    "m_r=0.8\n",
    "epoch =200"
   ]
  },
  {
   "cell_type": "code",
   "execution_count": 3,
   "metadata": {},
   "outputs": [],
   "source": [
    "def init_populaton(population_size,n):\n",
    "    population_list = []\n",
    "    for i in range( population_size):\n",
    "        new_member = []\n",
    "        for j in range(n):\n",
    "            new_member.append(rnd.randint(1,n))\n",
    "        new_member.append(0)    \n",
    "        population_list.append(new_member)\n",
    "    return population_list"
   ]
  },
  {
   "cell_type": "code",
   "execution_count": 4,
   "metadata": {},
   "outputs": [],
   "source": [
    "def cross_over(population_list):\n",
    "    for i in range(0,len(population_list),2):\n",
    "        child1 =population_list[i][:len(population[0])//2] + population_list[i+1][len(population[0])//2:len(population[0])-1]+[0]\n",
    "        child2 =population_list[i+1][:len(population[i+1])//2] + population_list[i][len(population[0])//2:len(population[0])-1]+[0]    \n",
    "        population_list.append(child1)\n",
    "        population_list.append(child2)\n",
    "    return population_list"
   ]
  },
  {
   "cell_type": "code",
   "execution_count": 5,
   "metadata": {},
   "outputs": [],
   "source": [
    "def mutation(population_list,mutation_rate,n):\n",
    "    choosen_ones = [i for i in range(len(population_list)//2,len(population_list))]\n",
    "    for i in range(len(population_list)//2):\n",
    "        new_random=rnd.randint(0,(len(population_list)//2)-1)\n",
    "        choosen_ones[new_random],choosen_ones[i]=choosen_ones[i],choosen_ones[new_random]\n",
    "    choosen_ones = choosen_ones[:int(len(choosen_ones)*mutation_rate)]\n",
    "    for i in choosen_ones:\n",
    "        new_ch =rnd.randint(0,n-1)\n",
    "        new_value = rnd.randint(1,n)\n",
    "        population_list[i][new_ch]=new_value\n",
    "    return population_list "
   ]
  },
  {
   "cell_type": "code",
   "execution_count": 6,
   "metadata": {},
   "outputs": [],
   "source": [
    "def fitness(population_list,n):\n",
    "    i=0\n",
    "    length =len(population_list)\n",
    "    conflict =0\n",
    "    while i<length:\n",
    "        j=0\n",
    "        conflict =0\n",
    "        while j< n:\n",
    "            l=j+1\n",
    "            while l<n:\n",
    "                if population_list[i][j]==population_list[i][l]:\n",
    "                    conflict+=1\n",
    "                if abs(j-l) == abs (population_list[i][j] - population_list[i][l]):\n",
    "                    conflict+=1\n",
    "                l+=1\n",
    "            j+=1\n",
    "        population_list[i][len(population_list[j])-1]=conflict\n",
    "        i+=1        \n",
    "    for i in range(len(population_list)):\n",
    "        _min = 1\n",
    "        for j in range(i,len(population_list)):\n",
    "            if population_list[j][n]<population_list[_min][n]:\n",
    "                _min=j\n",
    "        population_list[i],population_list[_min] =population_list[_min],population_list[i]\n",
    "    return population_list"
   ]
  },
  {
   "cell_type": "code",
   "execution_count": 11,
   "metadata": {},
   "outputs": [],
   "source": [
    "from matplotlib import pyplot as plt\n",
    "def showRes(res):\n",
    "    l = len(res)\n",
    "    plt.figure(figsize=(6, 6))\n",
    "    plt.scatter([x+1 for x in range(l - 1)], res[:l - 1])\n",
    "    for i in range(l):\n",
    "        plt.plot([0.5, l - 0.5], [i + 0.5, i + 0.5], color = \"k\")\n",
    "        plt.plot([i + 0.5, i + 0.5], [0.5, l - 0.5], color = \"k\")"
   ]
  },
  {
   "cell_type": "code",
   "execution_count": 15,
   "metadata": {},
   "outputs": [
    {
     "name": "stdout",
     "output_type": "stream",
     "text": [
      "# 0 ---> Best Solution so far: [2, 3, 1, 4, 1]\n",
      "# 1 ---> Best Solution so far: [2, 3, 1, 4, 1]\n",
      "# 2 ---> Best Solution so far: [2, 3, 1, 4, 1]\n",
      "# 3 ---> Best Solution so far: [2, 3, 1, 4, 1]\n",
      "# 4 ---> Best Solution so far: [2, 3, 1, 4, 1]\n",
      "# 5 ---> Best Solution so far: [2, 3, 1, 4, 1]\n",
      "# 6 ---> Best Solution so far: [2, 3, 1, 4, 1]\n",
      "# 7 ---> Best Solution so far: [2, 3, 1, 4, 1]\n",
      "Solution Found: [2, 4, 1, 3]\n"
     ]
    },
    {
     "data": {
      "image/png": "[encoded data removed]",
      "text/plain": [
       "<Figure size 600x600 with 1 Axes>"
      ]
     },
     "metadata": {},
     "output_type": "display_data"
    }
   ],
   "source": [
    "population = [[1,2,1,4,0],[2,1,4,2,0],[1,4,2,1,0],[3,1,1,2,0]]\n",
    "for i in range (epoch):        \n",
    "    population = cross_over(population)\n",
    "    population = mutation(population,m_r,n)\n",
    "    population = fitness(population,n)\n",
    "    population = population[:len(population)//2]\n",
    "    if population[0][n]==0:\n",
    "        print(\"Solution Found:\",population[0][0:n])\n",
    "        showRes(population[0])\n",
    "        break\n",
    "    else:\n",
    "        print(\"#\",i,\"---> Best Solution so far:\",population[0]) "
   ]
  },
  {
   "cell_type": "code",
   "execution_count": null,
   "metadata": {},
   "outputs": [],
   "source": []
  }
 ],
 "metadata": {
  "kernelspec": {
   "display_name": "Python 3.10.8 64-bit (microsoft store)",
   "language": "python",
   "name": "python3"
  },
  "language_info": {
   "codemirror_mode": {
    "name": "ipython",
    "version": 3
   },
   "file_extension": ".py",
   "mimetype": "text/x-python",
   "name": "python",
   "nbconvert_exporter": "python",
   "pygments_lexer": "ipython3",
   "version": "3.10.8"
  },
  "orig_nbformat": 4,
  "vscode": {
   "interpreter": {
    "hash": "e835e20cf3ce22b62fbd4c07f88b9837f9c7672d6df914e5c6b8992bfd85ca9e"
   }
  }
 },
 "nbformat": 4,
 "nbformat_minor": 2
}
