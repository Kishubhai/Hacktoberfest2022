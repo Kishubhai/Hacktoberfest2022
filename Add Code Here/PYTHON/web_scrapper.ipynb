{
 "cells": [
  {
   "cell_type": "code",
   "execution_count": null,
   "id": "7c36b16c-ad6c-4d66-b670-689180401b49",
   "metadata": {},
   "outputs": [],
   "source": [
    "import pandas as pd\n",
    "import numpy as np\n",
    "import matplotlib.pyplot as plt\n",
    "import seaborn as sns\n",
    "%matplotlib inline\n",
    "import re\n",
    "import time\n",
    "from datetime import datetime\n",
    "import matplotlib.dates as mdates\n",
    "import matplotlib.ticker as ticker\n",
    "from urllib.request import urlopen\n",
    "from bs4 import BeautifulSoup\n",
    "import requests\n",
    "import csv"
   ]
  },
  {
   "cell_type": "code",
   "execution_count": 87,
   "id": "9ee8da15-1442-4baf-8bc9-007da360f1dc",
   "metadata": {},
   "outputs": [],
   "source": [
    "headers = {'User-Agent': \"https://developers.whatismybrowser.com/useragents/parse/?analyse-my-user-agent=yes\", \"Accept-Encoding\":\"gzip, deflate\", \"Accept\":\"text/html,application/xhtml+xml,application/xml;q=0.9,*/*;q=0.8\", \"DNT\":\"1\",\"Connection\":\"close\", \"Upgrade-Insecure-Requests\":\"1\"}\n",
    "\n",
    "r = requests.get('https://www.amazon.in/gp/bestsellers/books/ref=zg_bs_pg_1?ie=UTF8&pg=1', headers=headers)#, proxies=proxies)\n",
    "content = r.content\n",
    "soup = BeautifulSoup(content)\n",
    "#print(soup)\n",
    "\n",
    "alls = []\n",
    "for d in soup.findAll('div',id ='gridItemRoot'):\n",
    "    #print(d)\n",
    "    name = d.find('div', attrs={'class':'_cDEzb_p13n-sc-css-line-clamp-1_1Fn1y'})\n",
    "    #print(n[0]['alt'])\n",
    "    author = d.find('div', attrs={'class':'a-row a-size-small'})\n",
    "    rating = d.find('span', attrs={'class':'a-icon-alt'})\n",
    "    price = d.find('span', attrs={'class':'_cDEzb_p13n-sc-price_3mJ9Z'})\n",
    "\n",
    "    all1=[]\n",
    "\n",
    "    if name is not None:\n",
    "        #print(n[0]['alt'])\n",
    "        all1.append(name.text)\n",
    "    else:\n",
    "        all1.append(\"unknown-product\")\n",
    "\n",
    "    if author is not None:\n",
    "        #print(author.text)\n",
    "        all1.append(author.text)\n",
    "    elif author is None:\n",
    "        author = d.find('span', attrs={'class':'a-size-small a-color-base'})\n",
    "        if author is not None:\n",
    "            all1.append(author.text)\n",
    "        else:    \n",
    "            all1.append('0')\n",
    "\n",
    "    if rating is not None:\n",
    "        #print(rating.text)\n",
    "        all1.append(rating.text)\n",
    "    else:\n",
    "        all1.append('-1') \n",
    "\n",
    "    if price is not None:\n",
    "        #print(price.text)\n",
    "        all1.append(price.text)\n",
    "    else:\n",
    "        all1.append('0')\n",
    "    alls.append(all1)    \n"
   ]
  },
  {
   "cell_type": "code",
   "execution_count": 88,
   "id": "5122160f-712c-4a0f-b5ed-ae30811f6a02",
   "metadata": {},
   "outputs": [],
   "source": [
    "header = ['Book Name','Author','Rating', 'Price']\n",
    "with open('amazon.csv', 'w', encoding='UTF8', newline='') as f:\n",
    "        writer = csv.writer(f)\n",
    "        writer.writerow(header)\n",
    "        writer.writerows(alls)"
   ]
  },
  {
   "cell_type": "code",
   "execution_count": 89,
   "id": "d2254c7e-33ce-4934-bc19-cc43ce51fea5",
   "metadata": {},
   "outputs": [],
   "source": [
    "df = pd.read_csv(\"amazon.csv\")"
   ]
  },
  {
   "cell_type": "code",
   "execution_count": null,
   "id": "ca81c0ba-2a9a-43dc-a23f-fcbfe35df905",
   "metadata": {},
   "outputs": [],
   "source": []
  }
 ],
 "metadata": {
  "kernelspec": {
   "display_name": "Python 3 (ipykernel)",
   "language": "python",
   "name": "python3"
  },
  "language_info": {
   "codemirror_mode": {
    "name": "ipython",
    "version": 3
   },
   "file_extension": ".py",
   "mimetype": "text/x-python",
   "name": "python",
   "nbconvert_exporter": "python",
   "pygments_lexer": "ipython3",
   "version": "3.10.6"
  }
 },
 "nbformat": 4,
 "nbformat_minor": 5
}
