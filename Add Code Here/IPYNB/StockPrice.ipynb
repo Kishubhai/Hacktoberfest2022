
import math
import pandas_datareader as web
import numpy as np
import pandas as pd
from sklearn.preprocessing import MinMaxScaler
from keras.models import Sequential
from keras.layers import Dense, LSTM
import matplotlib.pyplot as plt
plt.style.use('fivethirtyeight')
web.__version__
'0.10.0'
df=web.DataReader('AAPL', data_source='yahoo', start='2012-01-01', end='2019-12-17')
df
High	Low	Open	Close	Volume	Adj Close
Date						
2012-01-03	14.732143	14.607143	14.621429	14.686786	302220800.0	12.540046
2012-01-04	14.810000	14.617143	14.642857	14.765714	260022000.0	12.607437
2012-01-05	14.948214	14.738214	14.819643	14.929643	271269600.0	12.747405
2012-01-06	15.098214	14.972143	14.991786	15.085714	318292800.0	12.880667
2012-01-09	15.276786	15.048214	15.196429	15.061786	394024400.0	12.860234
2012-01-10	15.214286	15.053571	15.211071	15.115714	258196400.0	12.906277
2012-01-11	15.101786	14.975357	15.095714	15.091071	215084800.0	12.885242
2012-01-12	15.103571	14.955357	15.081429	15.049643	212587200.0	12.849864
2012-01-13	15.016071	14.952143	14.989286	14.993214	226021600.0	12.801682
2012-01-17	15.213929	15.105714	15.150000	15.167857	242897200.0	12.950801
2012-01-18	15.338214	15.225000	15.248571	15.325357	276791200.0	13.085277
2012-01-19	15.406071	15.232500	15.362500	15.276786	261738400.0	13.043810
2012-01-20	15.267857	14.991071	15.267500	15.010714	413974400.0	12.816625
2012-01-23	15.301786	15.082143	15.095357	15.264643	306062400.0	13.033440
2012-01-24	15.182143	14.983929	15.182143	15.014643	547638000.0	12.819982
2012-01-25	16.230356	15.847500	16.230000	15.952143	958314000.0	13.620449
2012-01-26	16.028214	15.826429	16.012857	15.879643	323985200.0	13.558545
2012-01-27	16.017143	15.848929	15.869286	15.974286	299709200.0	13.639353
2012-01-30	16.210714	15.906786	15.918214	16.178928	379341200.0	13.814085
2012-01-31	16.365713	16.181070	16.271070	16.302856	391683600.0	13.919899
2012-02-01	16.392500	16.269644	16.371786	16.292500	270046000.0	13.911057
2012-02-02	16.327499	16.213572	16.282143	16.254286	186796400.0	13.878426
2012-02-03	16.428572	16.270000	16.332144	16.417143	286599600.0	14.017484
2012-02-06	16.606428	16.364286	16.370714	16.570356	249412800.0	14.148298
2012-02-07	16.776787	16.592142	16.616072	16.743929	316223600.0	14.296505
2012-02-08	17.028214	16.775000	16.803572	17.024286	407890000.0	14.535881
2012-02-09	17.741072	17.162857	17.170000	17.613214	884214800.0	15.038723
2012-02-10	17.772142	17.448214	17.534286	17.622143	631302000.0	15.046350
2012-02-13	17.993929	17.753214	17.840357	17.950001	517216000.0	15.326274
2012-02-14	18.198570	17.928572	18.023571	18.195000	460398400.0	15.535470
...	...	...	...	...	...	...
2019-11-05	64.547501	64.080002	64.262497	64.282501	79897600.0	62.891769
2019-11-06	64.372498	63.842499	64.192497	64.309998	75864400.0	62.918674
2019-11-07	65.087502	64.527496	64.684998	64.857498	94940400.0	63.644836
2019-11-08	65.110001	64.212502	64.672501	65.035004	69986400.0	63.819019
2019-11-11	65.617500	64.570000	64.574997	65.550003	81821200.0	64.324387
2019-11-12	65.697502	65.230003	65.387497	65.489998	87388800.0	64.265511
2019-11-13	66.195000	65.267502	65.282501	66.117500	102734400.0	64.881271
2019-11-14	66.220001	65.525002	65.937500	65.660004	89182800.0	64.432335
2019-11-15	66.445000	65.752502	65.919998	66.440002	100206400.0	65.197746
2019-11-18	66.857498	66.057503	66.449997	66.775002	86703200.0	65.526482
2019-11-19	67.000000	66.347504	66.974998	66.572502	76167200.0	65.327782
2019-11-20	66.519997	65.099998	66.385002	65.797501	106234400.0	64.567261
2019-11-21	66.002502	65.294998	65.922501	65.502502	121395200.0	64.277779
2019-11-22	65.794998	65.209999	65.647499	65.445000	65325200.0	64.221336
2019-11-25	66.610001	65.629997	65.677498	66.592499	84020400.0	65.347389
2019-11-26	66.790001	65.625000	66.735001	66.072502	105207600.0	64.837120
2019-11-27	66.995003	66.327499	66.394997	66.959999	65235600.0	65.708015
2019-11-29	67.000000	66.474998	66.650002	66.812500	46617600.0	65.563271
2019-12-02	67.062500	65.862503	66.817497	66.040001	94487200.0	64.805237
2019-12-03	64.882500	64.072502	64.577499	64.862503	114430400.0	63.649746
2019-12-04	65.827499	65.169998	65.267502	65.434998	67181600.0	64.211540
2019-12-05	66.472504	65.682503	65.947502	66.394997	74424400.0	65.153587
2019-12-06	67.750000	66.824997	66.870003	67.677498	106075600.0	66.412117
2019-12-09	67.699997	66.227501	67.500000	66.730003	128042400.0	65.482323
2019-12-10	67.517502	66.464996	67.150002	67.120003	90420400.0	65.865051
2019-12-11	67.775002	67.125000	67.202499	67.692497	78756800.0	66.426834
2019-12-12	68.139999	66.830002	66.945000	67.864998	137310400.0	66.596107
2019-12-13	68.824997	67.732498	67.864998	68.787498	133587600.0	67.501366
2019-12-16	70.197502	69.245003	69.250000	69.964996	128186000.0	68.656845
2019-12-17	70.442497	69.699997	69.892502	70.102501	114158400.0	68.791771
2003 rows × 6 columns

!pip install pandas==0.23.4
Looking in indexes: https://pypi.org/simple, https://us-python.pkg.dev/colab-wheels/public/simple/
Collecting pandas==0.23.4
  Downloading pandas-0.23.4-cp37-cp37m-manylinux1_x86_64.whl (8.8 MB)
     |████████████████████████████████| 8.8 MB 24.3 MB/s 
Requirement already satisfied: python-dateutil>=2.5.0 in /usr/local/lib/python3.7/dist-packages (from pandas==0.23.4) (2.8.2)
Requirement already satisfied: pytz>=2011k in /usr/local/lib/python3.7/dist-packages (from pandas==0.23.4) (2022.2.1)
Requirement already satisfied: numpy>=1.9.0 in /usr/local/lib/python3.7/dist-packages (from pandas==0.23.4) (1.21.6)
Requirement already satisfied: six>=1.5 in /usr/local/lib/python3.7/dist-packages (from python-dateutil>=2.5.0->pandas==0.23.4) (1.15.0)
Installing collected packages: pandas
  Attempting uninstall: pandas
    Found existing installation: pandas 1.3.5
    Uninstalling pandas-1.3.5:
      Successfully uninstalled pandas-1.3.5
ERROR: pip's dependency resolver does not currently take into account all the packages that are installed. This behaviour is the source of the following dependency conflicts.
yfinance 0.1.74 requires pandas>=0.24.0, but you have pandas 0.23.4 which is incompatible.
xarray 0.20.2 requires pandas>=1.1, but you have pandas 0.23.4 which is incompatible.
pymc 4.1.4 requires pandas>=0.24.0, but you have pandas 0.23.4 which is incompatible.
prophet 1.1 requires pandas>=1.0.4, but you have pandas 0.23.4 which is incompatible.
plotnine 0.8.0 requires pandas>=1.1.0, but you have pandas 0.23.4 which is incompatible.
mizani 0.7.3 requires pandas>=1.1.0, but you have pandas 0.23.4 which is incompatible.
google-colab 1.0.0 requires pandas>=1.1.0, but you have pandas 0.23.4 which is incompatible.
Successfully installed pandas-0.23.4






#get the number of rows and columns in the data set 
df.shape
(2003, 6)
#visualize the closing price history 
plt.figure(figsize=(16,8))
plt.title('Close price History')
plt.plot(df['Close'])
plt.xlabel('Data', fontsize=18)
plt.ylabel('Close Price USD ($)', fontsize=18)
plt.show()

#create new dataframe with only the 'Close column'
data=df.filter(['Close'])
#Convert dataframe to a numpy array
dataset=data.values
#Get the number of rows to train the model on 
training_data_len=math.ceil(len(dataset)* .8)
training_data_len
1603
scaler = MinMaxScaler(feature_range=(0,1))
scaled_data=scaler.fit_transform(dataset)
scaled_data
array([[0.01316509],
       [0.01457063],
       [0.01748985],
       ...,
       [0.97658263],
       [0.99755134],
       [1.        ]])
#Craete the training dataset
#Create the scaled training dataset
train_data=scaled_data[0:training_data_len, :]
#Split the data into x_train and y_train data sets
x_train=[]
y_train=[]

for i in range(60, len(train_data)):
  x_train.append(train_data[i-60:i, 0])
  y_train.append(train_data[i, 0])
  if i<= 60:
    print(x_train)
    print(y_train)
    print()
[array([0.01316509, 0.01457063, 0.01748985, 0.02026915, 0.01984303,
       0.02080338, 0.02036454, 0.01962679, 0.01862191, 0.02173194,
       0.02453668, 0.02367172, 0.01893355, 0.02345548, 0.01900352,
       0.03569838, 0.03440732, 0.0360927 , 0.03973694, 0.04194384,
       0.0417594 , 0.0410789 , 0.04397903, 0.04670744, 0.04979839,
       0.05479095, 0.0652785 , 0.06543749, 0.07127594, 0.07563885,
       0.06814049, 0.07102789, 0.07097066, 0.07906688, 0.07791571,
       0.08004628, 0.08387497, 0.08600558, 0.09214292, 0.09661394,
       0.09790501, 0.09835659, 0.09071194, 0.08886753, 0.08914103,
       0.09632778, 0.09835024, 0.10269409, 0.11293358, 0.12659476,
       0.12403805, 0.1240444 , 0.13392141, 0.13701237, 0.13481179,
       0.13280207, 0.13070964, 0.13766105, 0.14243103, 0.14442805])]
[0.13949272033425864]

#Convert the x_train and y_train to numpy array
x_train, y_train=np.array(x_train), np.array(y_train)
#Reshape the data
x_train=np.reshape(x_train, (x_train.shape[0], 60, 1))
x_train.shape
(1543, 60, 1)
#Build LSTM model
model = Sequential()
model.add(LSTM(50, return_sequences=True, input_shape=(x_train.shape[1], 1)))
model.add(LSTM(50, return_sequences=False))
model.add(Dense(25))
model.add(Dense(1))
#Compile the model
model.compile(optimizer='adam', loss='mean_squared_error')
#Train the model 
model.fit(x_train, y_train, batch_size=1, epochs=1)
1543/1543 [==============================] - 43s 26ms/step - loss: 6.8940e-04
<keras.callbacks.History at 0x7f93cbbb0390>
#Create the testing data set
#Create a new array containing scaled values from index 1543 to 2003
test_data=scaled_data[training_data_len - 60:, :]
#Create the data sets x_test and y_test
x_test=[]
y_test=dataset[training_data_len:, :]
for i in range (60, len(test_data)):
  x_test.append(test_data[i-60:i, 0])
#Convert the data to a numpy array
x_test=np.array(x_test)
#Reshape the data
x_test=np.reshape(x_test, (x_test.shape[0], x_test.shape[1], 1))
#Get the models predicted price values
predictions= model.predict(x_test)
predictions=scaler.inverse_transform(predictions)
#Get the root mean squared error
rmse=np.sqrt(np.mean(predictions - y_test)**2)
rmse
1.9206414222717285
#Plot the data
train = data[:training_data_len]
valid = data[training_data_len:]
valid['Predictions']=predictions
#Visualize the data
plt.figure(figsize=(16,8))
plt.title('Model')
plt.xlabel('Date', fontsize=18)
plt.ylabel('Close Price USD ($)', fontsize=18)
plt.plot(train['Close'])
plt.plot(valid[['Close', 'Predictions']])
plt.legend(['Train', 'Val', 'Predictions'], loc='lower right')
plt.show()
/usr/local/lib/python3.7/dist-packages/ipykernel_launcher.py:4: SettingWithCopyWarning: 
A value is trying to be set on a copy of a slice from a DataFrame.
Try using .loc[row_indexer,col_indexer] = value instead

See the caveats in the documentation: http://pandas.pydata.org/pandas-docs/stable/indexing.html#indexing-view-versus-copy
  after removing the cwd from sys.path.

#Show the valid and predicted prices
valid
Close	Predictions
Date		
2018-05-17	46.747501	45.545071
2018-05-18	46.577499	45.524273
2018-05-21	46.907501	45.449726
2018-05-22	46.790001	45.403866
2018-05-23	47.090000	45.362328
2018-05-24	47.037498	45.371086
2018-05-25	47.145000	45.397133
2018-05-29	46.974998	45.445187
2018-05-30	46.875000	45.476692
2018-05-31	46.717499	45.485546
2018-06-01	47.560001	45.463566
2018-06-04	47.957500	45.543541
2018-06-05	48.327499	45.712524
2018-06-06	48.494999	45.950905
2018-06-07	48.365002	46.212029
2018-06-08	47.924999	46.430634
2018-06-11	47.807499	46.540268
2018-06-12	48.070000	46.567474
2018-06-13	47.674999	46.585148
2018-06-14	47.700001	46.541431
2018-06-15	47.209999	46.479294
2018-06-18	47.185001	46.351711
2018-06-19	46.422501	46.209621
2018-06-20	46.625000	45.979836
2018-06-21	46.365002	45.770729
2018-06-22	46.230000	45.566166
2018-06-25	45.542500	45.377300
2018-06-26	46.107498	45.133736
2018-06-27	46.040001	44.976543
2018-06-28	46.375000	44.872959
...	...	...
2019-11-05	64.282501	59.418804
2019-11-06	64.309998	59.904346
2019-11-07	64.857498	60.303570
2019-11-08	65.035004	60.675533
2019-11-11	65.550003	60.997475
2019-11-12	65.489998	61.315224
2019-11-13	66.117500	61.570267
2019-11-14	65.660004	61.842579
2019-11-15	66.440002	62.014492
2019-11-18	66.775002	62.222855
2019-11-19	66.572502	62.455318
2019-11-20	65.797501	62.635059
2019-11-21	65.502502	62.660862
2019-11-22	65.445000	62.577381
2019-11-25	66.592499	62.449245
2019-11-26	66.072502	62.475048
2019-11-27	66.959999	62.491241
2019-11-29	66.812500	62.628349
2019-12-02	66.040001	62.776352
2019-12-03	64.862503	62.807339
2019-12-04	65.434998	62.627880
2019-12-05	66.394997	62.463547
2019-12-06	67.677498	62.454735
2019-12-09	66.730003	62.687454
2019-12-10	67.120003	62.863579
2019-12-11	67.692497	63.050793
2019-12-12	67.864998	63.289040
2019-12-13	68.787498	63.534237
2019-12-16	69.964996	63.869308
2019-12-17	70.102501	64.346779
400 rows × 2 columns

#Get the quote
apple_quote=web.DataReader('AAPL', data_source='yahoo', start='2012-01-01', end = '2019-12-17')
#Create a new dataframe 
new_df=apple_quote.filter(['Close'])
#Get the last 60 day closing price values and convert the dataframe to an array
last_60_days=new_df[-60:].values
#Scale the data to be values between 0 and 1 
last_60_days_scaled=scaler.transform(last_60_days)
#Create an empty list
X_test=[]
#Append the past 60 days
X_test.append(last_60_days_scaled)
#Convert the X_test data set to a numpy array
X_test=np.array(X_test)
#Reshape the data
X_test=np.reshape(X_test, (X_test.shape[0], X_test.shape[1], 1))
#Get the predicted scaled price
pred_price=model.predict(X_test)
#Undo the scaling 
pred_price=scaler.inverse_transform(pred_price)
print(pred_price)
[[64.82711]]
