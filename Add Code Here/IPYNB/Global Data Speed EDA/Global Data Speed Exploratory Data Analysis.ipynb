{
 "cells": [
  {
   "cell_type": "code",
   "execution_count": 1,
   "id": "18aaeced",
   "metadata": {},
   "outputs": [],
   "source": [
    "import numpy as np # linear algebra\n",
    "import pandas as pd # data processing, CSV file I/O (e.g. pd.read_csv)\n",
    "import matplotlib.pyplot as plt"
   ]
  },
  {
   "cell_type": "code",
   "execution_count": 2,
   "id": "923b3a02",
   "metadata": {},
   "outputs": [],
   "source": [
    "plt.rcParams[\"figure.figsize\"] = (12, 7)\n",
    "plt.style.use('ggplot')"
   ]
  },
  {
   "cell_type": "code",
   "execution_count": 3,
   "id": "0066625f",
   "metadata": {},
   "outputs": [],
   "source": [
    "df=pd.read_csv('Internet Speed 2022.csv')"
   ]
  },
  {
   "cell_type": "code",
   "execution_count": 4,
   "id": "0b3c9865",
   "metadata": {},
   "outputs": [
    {
     "data": {
      "text/plain": [
       "(177, 3)"
      ]
     },
     "execution_count": 4,
     "metadata": {},
     "output_type": "execute_result"
    }
   ],
   "source": [
    "df.shape"
   ]
  },
  {
   "cell_type": "code",
   "execution_count": 5,
   "id": "66afdb79",
   "metadata": {},
   "outputs": [
    {
     "data": {
      "text/plain": [
       "Index(['country', 'broadband', 'mobile'], dtype='object')"
      ]
     },
     "execution_count": 5,
     "metadata": {},
     "output_type": "execute_result"
    }
   ],
   "source": [
    "df.columns"
   ]
  },
  {
   "cell_type": "code",
   "execution_count": 6,
   "id": "aef10787",
   "metadata": {},
   "outputs": [
    {
     "name": "stdout",
     "output_type": "stream",
     "text": [
      "<class 'pandas.core.frame.DataFrame'>\n",
      "RangeIndex: 177 entries, 0 to 176\n",
      "Data columns (total 3 columns):\n",
      " #   Column     Non-Null Count  Dtype  \n",
      "---  ------     --------------  -----  \n",
      " 0   country    177 non-null    object \n",
      " 1   broadband  177 non-null    float64\n",
      " 2   mobile     136 non-null    float64\n",
      "dtypes: float64(2), object(1)\n",
      "memory usage: 4.3+ KB\n"
     ]
    }
   ],
   "source": [
    "df.info()"
   ]
  },
  {
   "cell_type": "code",
   "execution_count": 7,
   "id": "02ff8d4b",
   "metadata": {},
   "outputs": [
    {
     "data": {
      "text/html": [
       "<div>\n",
       "<style scoped>\n",
       "    .dataframe tbody tr th:only-of-type {\n",
       "        vertical-align: middle;\n",
       "    }\n",
       "\n",
       "    .dataframe tbody tr th {\n",
       "        vertical-align: top;\n",
       "    }\n",
       "\n",
       "    .dataframe thead th {\n",
       "        text-align: right;\n",
       "    }\n",
       "</style>\n",
       "<table border=\"1\" class=\"dataframe\">\n",
       "  <thead>\n",
       "    <tr style=\"text-align: right;\">\n",
       "      <th></th>\n",
       "      <th>country</th>\n",
       "      <th>broadband</th>\n",
       "      <th>mobile</th>\n",
       "    </tr>\n",
       "  </thead>\n",
       "  <tbody>\n",
       "    <tr>\n",
       "      <th>0</th>\n",
       "      <td>Monaco</td>\n",
       "      <td>261.82</td>\n",
       "      <td>NaN</td>\n",
       "    </tr>\n",
       "    <tr>\n",
       "      <th>1</th>\n",
       "      <td>Singapore</td>\n",
       "      <td>255.83</td>\n",
       "      <td>105.01</td>\n",
       "    </tr>\n",
       "    <tr>\n",
       "      <th>2</th>\n",
       "      <td>Hong Kong</td>\n",
       "      <td>254.70</td>\n",
       "      <td>83.58</td>\n",
       "    </tr>\n",
       "    <tr>\n",
       "      <th>3</th>\n",
       "      <td>Romania</td>\n",
       "      <td>232.17</td>\n",
       "      <td>59.67</td>\n",
       "    </tr>\n",
       "    <tr>\n",
       "      <th>4</th>\n",
       "      <td>Switzerland</td>\n",
       "      <td>229.96</td>\n",
       "      <td>135.70</td>\n",
       "    </tr>\n",
       "  </tbody>\n",
       "</table>\n",
       "</div>"
      ],
      "text/plain": [
       "       country  broadband  mobile\n",
       "0       Monaco     261.82     NaN\n",
       "1    Singapore     255.83  105.01\n",
       "2    Hong Kong     254.70   83.58\n",
       "3      Romania     232.17   59.67\n",
       "4  Switzerland     229.96  135.70"
      ]
     },
     "execution_count": 7,
     "metadata": {},
     "output_type": "execute_result"
    }
   ],
   "source": [
    "df.head()"
   ]
  },
  {
   "cell_type": "code",
   "execution_count": 8,
   "id": "f1eb48ab",
   "metadata": {},
   "outputs": [
    {
     "data": {
      "text/html": [
       "<div>\n",
       "<style scoped>\n",
       "    .dataframe tbody tr th:only-of-type {\n",
       "        vertical-align: middle;\n",
       "    }\n",
       "\n",
       "    .dataframe tbody tr th {\n",
       "        vertical-align: top;\n",
       "    }\n",
       "\n",
       "    .dataframe thead th {\n",
       "        text-align: right;\n",
       "    }\n",
       "</style>\n",
       "<table border=\"1\" class=\"dataframe\">\n",
       "  <thead>\n",
       "    <tr style=\"text-align: right;\">\n",
       "      <th></th>\n",
       "      <th>broadband</th>\n",
       "      <th>mobile</th>\n",
       "    </tr>\n",
       "  </thead>\n",
       "  <tbody>\n",
       "    <tr>\n",
       "      <th>count</th>\n",
       "      <td>177.000000</td>\n",
       "      <td>136.000000</td>\n",
       "    </tr>\n",
       "    <tr>\n",
       "      <th>mean</th>\n",
       "      <td>72.672825</td>\n",
       "      <td>53.788235</td>\n",
       "    </tr>\n",
       "    <tr>\n",
       "      <th>std</th>\n",
       "      <td>66.461751</td>\n",
       "      <td>43.327121</td>\n",
       "    </tr>\n",
       "    <tr>\n",
       "      <th>min</th>\n",
       "      <td>4.010000</td>\n",
       "      <td>7.270000</td>\n",
       "    </tr>\n",
       "    <tr>\n",
       "      <th>25%</th>\n",
       "      <td>22.500000</td>\n",
       "      <td>24.402500</td>\n",
       "    </tr>\n",
       "    <tr>\n",
       "      <th>50%</th>\n",
       "      <td>43.480000</td>\n",
       "      <td>35.825000</td>\n",
       "    </tr>\n",
       "    <tr>\n",
       "      <th>75%</th>\n",
       "      <td>109.410000</td>\n",
       "      <td>69.205000</td>\n",
       "    </tr>\n",
       "    <tr>\n",
       "      <th>max</th>\n",
       "      <td>261.820000</td>\n",
       "      <td>238.060000</td>\n",
       "    </tr>\n",
       "  </tbody>\n",
       "</table>\n",
       "</div>"
      ],
      "text/plain": [
       "        broadband      mobile\n",
       "count  177.000000  136.000000\n",
       "mean    72.672825   53.788235\n",
       "std     66.461751   43.327121\n",
       "min      4.010000    7.270000\n",
       "25%     22.500000   24.402500\n",
       "50%     43.480000   35.825000\n",
       "75%    109.410000   69.205000\n",
       "max    261.820000  238.060000"
      ]
     },
     "execution_count": 8,
     "metadata": {},
     "output_type": "execute_result"
    }
   ],
   "source": [
    "df.describe()"
   ]
  },
  {
   "cell_type": "code",
   "execution_count": 9,
   "id": "d9ddf01f",
   "metadata": {},
   "outputs": [
    {
     "data": {
      "text/plain": [
       "Text(0.5, 1.0, 'Boxplot')"
      ]
     },
     "execution_count": 9,
     "metadata": {},
     "output_type": "execute_result"
    },
    {
     "data": {
      "image/png": "[encoded data removed]",
      "text/plain": [
       "<Figure size 1200x700 with 1 Axes>"
      ]
     },
     "metadata": {},
     "output_type": "display_data"
    }
   ],
   "source": [
    "df.boxplot(patch_artist = True, notch ='True', vert = 1, grid='True')\n",
    "plt.title('Boxplot', fontsize=18)"
   ]
  },
  {
   "cell_type": "code",
   "execution_count": 10,
   "id": "ab04b39f",
   "metadata": {},
   "outputs": [
    {
     "data": {
      "text/plain": [
       "country       0\n",
       "broadband     0\n",
       "mobile       41\n",
       "dtype: int64"
      ]
     },
     "execution_count": 10,
     "metadata": {},
     "output_type": "execute_result"
    }
   ],
   "source": [
    "df.isna().sum()"
   ]
  },
  {
   "cell_type": "code",
   "execution_count": 11,
   "id": "40623082",
   "metadata": {},
   "outputs": [
    {
     "data": {
      "text/plain": [
       "Text(0.5, 1.0, 'Countries with fastest Broadband Speed')"
      ]
     },
     "execution_count": 11,
     "metadata": {},
     "output_type": "execute_result"
    }
   ],
   "source": [
    "df_broadband = df.sort_values(by='broadband',ascending=False)\n",
    "df_broadband.iloc[0:10].plot('country', 'broadband', kind='bar', color=\"#f04747\", width=0.8 )\n",
    "plt.xticks(rotation=45)\n",
    "plt.ylabel('Speed in Mbps')\n",
    "plt.xlabel('Country ')\n",
    "plt.title('Countries with fastest Broadband Speed', fontsize=18)"
   ]
  },
  {
   "cell_type": "code",
   "execution_count": 12,
   "id": "598bdc89",
   "metadata": {},
   "outputs": [
    {
     "data": {
      "text/plain": [
       "Text(0.5, 1.0, 'Countries with fastest Broadband Speed and their mobile interneet Speed')"
      ]
     },
     "execution_count": 12,
     "metadata": {},
     "output_type": "execute_result"
    }
   ],
   "source": [
    "df.iloc[0:10].plot('country',kind='bar',color=[\"#43b581\",\"#f04747\"], width=0.8)\n",
    "plt.xticks(rotation=45)\n",
    "plt.ylabel('Speed in Mbps')\n",
    "plt.xlabel('Country ')\n",
    "plt.title('Countries with fastest Broadband Speed and their mobile interneet Speed', fontsize=18)"
   ]
  },
  {
   "cell_type": "code",
   "execution_count": 13,
   "id": "48209f3b",
   "metadata": {},
   "outputs": [
    {
     "data": {
      "text/plain": [
       "Text(0.5, 1.0, 'Countries with fastest Mobile internet Speed')"
      ]
     },
     "execution_count": 13,
     "metadata": {},
     "output_type": "execute_result"
    }
   ],
   "source": [
    "df_mobile = df.sort_values(by='mobile',ascending=False)\n",
    "df_mobile.iloc[0:10].plot('country', 'mobile', kind='bar', color='#43b581', width=0.8 )\n",
    "plt.xticks(rotation=45)\n",
    "plt.ylabel('Speed in Mbps')\n",
    "plt.xlabel('Country')\n",
    "plt.title('Countries with fastest Mobile internet Speed', fontsize=18)"
   ]
  },
  {
   "cell_type": "code",
   "execution_count": 14,
   "id": "bbcafd4d",
   "metadata": {},
   "outputs": [
    {
     "data": {
      "text/plain": [
       "Text(0.5, 1.0, 'Countries with fastest Mobile internet Speed and broadband internet speeds')"
      ]
     },
     "execution_count": 14,
     "metadata": {},
     "output_type": "execute_result"
    }
   ],
   "source": [
    "df.sort_values(by='mobile',ascending=False).iloc[0:10].plot('country', ['mobile','broadband'], kind='bar', color=[\"#43b581\",\"#f04747\"], width=0.8 )\n",
    "plt.xticks(rotation=45)\n",
    "plt.ylabel('Speed in Mbps')\n",
    "plt.xlabel('Country ')\n",
    "plt.title('Countries with fastest Mobile internet Speed and broadband internet speeds', fontsize=18)"
   ]
  },
  {
   "cell_type": "code",
   "execution_count": 15,
   "id": "6214838e",
   "metadata": {},
   "outputs": [],
   "source": [
    "x= df.loc[df['country']== 'India']"
   ]
  },
  {
   "cell_type": "code",
   "execution_count": 16,
   "id": "e3b8d3f2",
   "metadata": {},
   "outputs": [],
   "source": [
    "df_mobile=df_mobile.dropna().reset_index(inplace=False,drop=True)"
   ]
  },
  {
   "cell_type": "code",
   "execution_count": 17,
   "id": "1ad16a24",
   "metadata": {},
   "outputs": [
    {
     "data": {
      "text/html": [
       "<div>\n",
       "<style scoped>\n",
       "    .dataframe tbody tr th:only-of-type {\n",
       "        vertical-align: middle;\n",
       "    }\n",
       "\n",
       "    .dataframe tbody tr th {\n",
       "        vertical-align: top;\n",
       "    }\n",
       "\n",
       "    .dataframe thead th {\n",
       "        text-align: right;\n",
       "    }\n",
       "</style>\n",
       "<table border=\"1\" class=\"dataframe\">\n",
       "  <thead>\n",
       "    <tr style=\"text-align: right;\">\n",
       "      <th></th>\n",
       "      <th>country</th>\n",
       "      <th>broadband</th>\n",
       "      <th>mobile</th>\n",
       "    </tr>\n",
       "  </thead>\n",
       "  <tbody>\n",
       "    <tr>\n",
       "      <th>124</th>\n",
       "      <td>India</td>\n",
       "      <td>64.03</td>\n",
       "      <td>17.89</td>\n",
       "    </tr>\n",
       "  </tbody>\n",
       "</table>\n",
       "</div>"
      ],
      "text/plain": [
       "    country  broadband  mobile\n",
       "124   India      64.03   17.89"
      ]
     },
     "execution_count": 17,
     "metadata": {},
     "output_type": "execute_result"
    }
   ],
   "source": [
    "df_mobile.loc[df_mobile['country']== 'India']"
   ]
  },
  {
   "cell_type": "code",
   "execution_count": 18,
   "id": "e1de03d1",
   "metadata": {},
   "outputs": [
    {
     "data": {
      "text/plain": [
       "Text(0.5, 1.0, 'Indian rank in Mobile internet speed')"
      ]
     },
     "execution_count": 18,
     "metadata": {},
     "output_type": "execute_result"
    }
   ],
   "source": [
    "df_mobile.iloc[0:125].plot('country','mobile',kind='bar',color=[\"#43b581\"], width=0.8)\n",
    "plt.axhline(y=17.89, color='red', label='Indian Mobile internet speed')\n",
    "plt.xticks(fontsize=7)\n",
    "plt.ylabel('Speed in Mbps')\n",
    "plt.xlabel('Country ')\n",
    "plt.title('Indian rank in Mobile internet speed', fontsize=18)"
   ]
  },
  {
   "cell_type": "code",
   "execution_count": 19,
   "id": "eeb62ad6",
   "metadata": {},
   "outputs": [],
   "source": [
    "df_broadband=df_broadband.reset_index(inplace= False,drop= True)"
   ]
  },
  {
   "cell_type": "code",
   "execution_count": 20,
   "id": "d9d1a8bb",
   "metadata": {},
   "outputs": [],
   "source": [
    "x=df_broadband.loc[df_broadband['country']== 'India']"
   ]
  },
  {
   "cell_type": "code",
   "execution_count": 21,
   "id": "547e2f68",
   "metadata": {},
   "outputs": [
    {
     "data": {
      "text/plain": [
       "(177, 3)"
      ]
     },
     "execution_count": 21,
     "metadata": {},
     "output_type": "execute_result"
    }
   ],
   "source": [
    "df_broadband.shape"
   ]
  },
  {
   "cell_type": "code",
   "execution_count": 22,
   "id": "b2b392a7",
   "metadata": {},
   "outputs": [
    {
     "data": {
      "text/html": [
       "<div>\n",
       "<style scoped>\n",
       "    .dataframe tbody tr th:only-of-type {\n",
       "        vertical-align: middle;\n",
       "    }\n",
       "\n",
       "    .dataframe tbody tr th {\n",
       "        vertical-align: top;\n",
       "    }\n",
       "\n",
       "    .dataframe thead th {\n",
       "        text-align: right;\n",
       "    }\n",
       "</style>\n",
       "<table border=\"1\" class=\"dataframe\">\n",
       "  <thead>\n",
       "    <tr style=\"text-align: right;\">\n",
       "      <th></th>\n",
       "      <th>country</th>\n",
       "      <th>broadband</th>\n",
       "      <th>mobile</th>\n",
       "    </tr>\n",
       "  </thead>\n",
       "  <tbody>\n",
       "    <tr>\n",
       "      <th>68</th>\n",
       "      <td>India</td>\n",
       "      <td>64.03</td>\n",
       "      <td>17.89</td>\n",
       "    </tr>\n",
       "  </tbody>\n",
       "</table>\n",
       "</div>"
      ],
      "text/plain": [
       "   country  broadband  mobile\n",
       "68   India      64.03   17.89"
      ]
     },
     "execution_count": 22,
     "metadata": {},
     "output_type": "execute_result"
    }
   ],
   "source": [
    "df_broadband.loc[df_broadband['country']== 'India']"
   ]
  },
  {
   "cell_type": "code",
   "execution_count": 24,
   "id": "d771b4b8",
   "metadata": {},
   "outputs": [
    {
     "data": {
      "text/plain": [
       "Text(0.5, 1.0, 'Indian rank in broadband internet speed')"
      ]
     },
     "execution_count": 24,
     "metadata": {},
     "output_type": "execute_result"
    }
   ],
   "source": [
    "df_broadband.iloc[0:69].plot('country','broadband',kind='bar',color=[\"#43b581\"], width=0.8)\n",
    "plt.axhline(y=64.03, color='red', label='Indian Broadband internet speed')\n",
    "\n",
    "plt.ylabel('Speed in Mbps')\n",
    "plt.xlabel('Country ')\n",
    "plt.title('Indian rank in broadband internet speed', fontsize=18)"
   ]
  },
  {
   "cell_type": "code",
   "execution_count": null,
   "id": "bdfb6c4c",
   "metadata": {},
   "outputs": [],
   "source": []
  }
 ],
 "metadata": {
  "kernelspec": {
   "display_name": "Python 3 (ipykernel)",
   "language": "python",
   "name": "python3"
  },
  "language_info": {
   "codemirror_mode": {
    "name": "ipython",
    "version": 3
   },
   "file_extension": ".py",
   "mimetype": "text/x-python",
   "name": "python",
   "nbconvert_exporter": "python",
   "pygments_lexer": "ipython3",
   "version": "3.9.7"
  }
 },
 "nbformat": 4,
 "nbformat_minor": 5
}
